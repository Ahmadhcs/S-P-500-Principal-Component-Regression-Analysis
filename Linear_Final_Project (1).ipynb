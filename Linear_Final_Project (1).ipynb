{
  "cells": [
    {
      "cell_type": "markdown",
      "metadata": {
        "id": "voFZ0_puo3LK"
      },
      "source": [
        "Please follow the instructions carefully. Write all your code in a `Code` cell, and your explanations in a `Markdown` cell. Make sure that your code compiles correctly either by selecting a given cell and clicking the `Run` button, or by hitting `shift`+`enter` or `shift`+`return`."
      ]
    },
    {
      "cell_type": "markdown",
      "metadata": {
        "id": "MGS0XEWoL9er"
      },
      "source": [
        "### 1. Import `numpy`, `numpy.linalg`, `matplotlib.pyplot`, and `pandas`. Use the appropriate aliases when importing these modules."
      ]
    },
    {
      "cell_type": "code",
      "execution_count": 1,
      "metadata": {
        "id": "KheDr_zDL9es"
      },
      "outputs": [],
      "source": [
        "# code for question 1\n",
        "import numpy as np\n",
        "import numpy.linalg as npla\n",
        "import matplotlib.pyplot as plt\n",
        "import pandas as pd\n"
      ]
    },
    {
      "cell_type": "markdown",
      "metadata": {
        "id": "BnraRRm8o3Ld"
      },
      "source": [
        "### 2. Load the data from the file named `data_stock_returns.csv` into a `DatFrame` called `returns`. The file `data_stock_returns.csv` contains daily returns of a number of stocks selected from the S&P 500 universe. The rows of the csv file represent the returns over a number of days, and the columns represent individual stocks labeled by their NYSE ticker symbol, e.g., Apple stock is labeled `AAPL`."
      ]
    },
    {
      "cell_type": "code",
      "execution_count": 2,
      "metadata": {
        "id": "Ml7wr6GSo3Le"
      },
      "outputs": [],
      "source": [
        "# code for question 2\n",
        "#returns = pd.read_csv('/content/data_stock_returns.csv')\n",
        "returns = pd.read_csv('data_stock_returns.csv')"
      ]
    },
    {
      "cell_type": "markdown",
      "metadata": {
        "id": "pFJXi4GXo3Li"
      },
      "source": [
        "### 3. View the `head` of the `returns` `DataFrame`"
      ]
    },
    {
      "cell_type": "code",
      "execution_count": 3,
      "metadata": {
        "id": "nILjqx_Do3Lk",
        "colab": {
          "base_uri": "https://localhost:8080/",
          "height": 386
        },
        "outputId": "87fca1c1-051c-4bb1-9d0c-9c628967224a"
      },
      "outputs": [
        {
          "output_type": "execute_result",
          "data": {
            "text/plain": [
              "         Date      ATVI      CHTR     CMCSA       CTL       DIS     DISCA  \\\n",
              "0  2019-01-02  0.009829  0.010542  0.009354  0.018961 -0.006221  0.043115   \n",
              "1  2019-01-03 -0.036155 -0.001703  0.007825  0.004524 -0.024525 -0.005824   \n",
              "2  2019-01-04  0.039127  0.051651  0.033218  0.027974  0.030381  0.017754   \n",
              "3  2019-01-07  0.027806 -0.004204 -0.010668  0.021706  0.008630  0.014810   \n",
              "4  2019-01-08  0.029859 -0.002524  0.008152  0.025441  0.007748  0.026410   \n",
              "\n",
              "      DISCK      DISH        EA  ...       NEE        NI       NRG       PEG  \\\n",
              "0  0.031979  0.035795  0.018333  ... -0.023222 -0.011107 -0.038352 -0.023718   \n",
              "1  0.002515  0.020651 -0.020871  ... -0.002476  0.001196 -0.009491 -0.000197   \n",
              "2  0.019072  0.068034  0.070034  ...  0.018249  0.017378  0.033601  0.010764   \n",
              "3  0.014271  0.011252  0.036862  ... -0.001450  0.005467  0.009179  0.002139   \n",
              "4  0.020041  0.002793  0.016194  ...  0.007287  0.018519  0.015114  0.003878   \n",
              "\n",
              "        PNW       PPL        SO       SRE       WEC       XEL  \n",
              "0 -0.027728 -0.007796 -0.004564 -0.013306 -0.024556 -0.021542  \n",
              "1  0.010085 -0.003564  0.014082  0.004579  0.002660 -0.003948  \n",
              "2  0.012229  0.030242  0.008310  0.029491  0.007352  0.009738  \n",
              "3 -0.001890  0.001384 -0.002239 -0.000181 -0.004552 -0.004339  \n",
              "4  0.014904  0.013059  0.028071  0.027595  0.010249  0.011530  \n",
              "\n",
              "[5 rows x 489 columns]"
            ],
            "text/html": [
              "\n",
              "  <div id=\"df-e0ffcbdc-344c-4795-bdb5-ec57ce435892\">\n",
              "    <div class=\"colab-df-container\">\n",
              "      <div>\n",
              "<style scoped>\n",
              "    .dataframe tbody tr th:only-of-type {\n",
              "        vertical-align: middle;\n",
              "    }\n",
              "\n",
              "    .dataframe tbody tr th {\n",
              "        vertical-align: top;\n",
              "    }\n",
              "\n",
              "    .dataframe thead th {\n",
              "        text-align: right;\n",
              "    }\n",
              "</style>\n",
              "<table border=\"1\" class=\"dataframe\">\n",
              "  <thead>\n",
              "    <tr style=\"text-align: right;\">\n",
              "      <th></th>\n",
              "      <th>Date</th>\n",
              "      <th>ATVI</th>\n",
              "      <th>CHTR</th>\n",
              "      <th>CMCSA</th>\n",
              "      <th>CTL</th>\n",
              "      <th>DIS</th>\n",
              "      <th>DISCA</th>\n",
              "      <th>DISCK</th>\n",
              "      <th>DISH</th>\n",
              "      <th>EA</th>\n",
              "      <th>...</th>\n",
              "      <th>NEE</th>\n",
              "      <th>NI</th>\n",
              "      <th>NRG</th>\n",
              "      <th>PEG</th>\n",
              "      <th>PNW</th>\n",
              "      <th>PPL</th>\n",
              "      <th>SO</th>\n",
              "      <th>SRE</th>\n",
              "      <th>WEC</th>\n",
              "      <th>XEL</th>\n",
              "    </tr>\n",
              "  </thead>\n",
              "  <tbody>\n",
              "    <tr>\n",
              "      <th>0</th>\n",
              "      <td>2019-01-02</td>\n",
              "      <td>0.009829</td>\n",
              "      <td>0.010542</td>\n",
              "      <td>0.009354</td>\n",
              "      <td>0.018961</td>\n",
              "      <td>-0.006221</td>\n",
              "      <td>0.043115</td>\n",
              "      <td>0.031979</td>\n",
              "      <td>0.035795</td>\n",
              "      <td>0.018333</td>\n",
              "      <td>...</td>\n",
              "      <td>-0.023222</td>\n",
              "      <td>-0.011107</td>\n",
              "      <td>-0.038352</td>\n",
              "      <td>-0.023718</td>\n",
              "      <td>-0.027728</td>\n",
              "      <td>-0.007796</td>\n",
              "      <td>-0.004564</td>\n",
              "      <td>-0.013306</td>\n",
              "      <td>-0.024556</td>\n",
              "      <td>-0.021542</td>\n",
              "    </tr>\n",
              "    <tr>\n",
              "      <th>1</th>\n",
              "      <td>2019-01-03</td>\n",
              "      <td>-0.036155</td>\n",
              "      <td>-0.001703</td>\n",
              "      <td>0.007825</td>\n",
              "      <td>0.004524</td>\n",
              "      <td>-0.024525</td>\n",
              "      <td>-0.005824</td>\n",
              "      <td>0.002515</td>\n",
              "      <td>0.020651</td>\n",
              "      <td>-0.020871</td>\n",
              "      <td>...</td>\n",
              "      <td>-0.002476</td>\n",
              "      <td>0.001196</td>\n",
              "      <td>-0.009491</td>\n",
              "      <td>-0.000197</td>\n",
              "      <td>0.010085</td>\n",
              "      <td>-0.003564</td>\n",
              "      <td>0.014082</td>\n",
              "      <td>0.004579</td>\n",
              "      <td>0.002660</td>\n",
              "      <td>-0.003948</td>\n",
              "    </tr>\n",
              "    <tr>\n",
              "      <th>2</th>\n",
              "      <td>2019-01-04</td>\n",
              "      <td>0.039127</td>\n",
              "      <td>0.051651</td>\n",
              "      <td>0.033218</td>\n",
              "      <td>0.027974</td>\n",
              "      <td>0.030381</td>\n",
              "      <td>0.017754</td>\n",
              "      <td>0.019072</td>\n",
              "      <td>0.068034</td>\n",
              "      <td>0.070034</td>\n",
              "      <td>...</td>\n",
              "      <td>0.018249</td>\n",
              "      <td>0.017378</td>\n",
              "      <td>0.033601</td>\n",
              "      <td>0.010764</td>\n",
              "      <td>0.012229</td>\n",
              "      <td>0.030242</td>\n",
              "      <td>0.008310</td>\n",
              "      <td>0.029491</td>\n",
              "      <td>0.007352</td>\n",
              "      <td>0.009738</td>\n",
              "    </tr>\n",
              "    <tr>\n",
              "      <th>3</th>\n",
              "      <td>2019-01-07</td>\n",
              "      <td>0.027806</td>\n",
              "      <td>-0.004204</td>\n",
              "      <td>-0.010668</td>\n",
              "      <td>0.021706</td>\n",
              "      <td>0.008630</td>\n",
              "      <td>0.014810</td>\n",
              "      <td>0.014271</td>\n",
              "      <td>0.011252</td>\n",
              "      <td>0.036862</td>\n",
              "      <td>...</td>\n",
              "      <td>-0.001450</td>\n",
              "      <td>0.005467</td>\n",
              "      <td>0.009179</td>\n",
              "      <td>0.002139</td>\n",
              "      <td>-0.001890</td>\n",
              "      <td>0.001384</td>\n",
              "      <td>-0.002239</td>\n",
              "      <td>-0.000181</td>\n",
              "      <td>-0.004552</td>\n",
              "      <td>-0.004339</td>\n",
              "    </tr>\n",
              "    <tr>\n",
              "      <th>4</th>\n",
              "      <td>2019-01-08</td>\n",
              "      <td>0.029859</td>\n",
              "      <td>-0.002524</td>\n",
              "      <td>0.008152</td>\n",
              "      <td>0.025441</td>\n",
              "      <td>0.007748</td>\n",
              "      <td>0.026410</td>\n",
              "      <td>0.020041</td>\n",
              "      <td>0.002793</td>\n",
              "      <td>0.016194</td>\n",
              "      <td>...</td>\n",
              "      <td>0.007287</td>\n",
              "      <td>0.018519</td>\n",
              "      <td>0.015114</td>\n",
              "      <td>0.003878</td>\n",
              "      <td>0.014904</td>\n",
              "      <td>0.013059</td>\n",
              "      <td>0.028071</td>\n",
              "      <td>0.027595</td>\n",
              "      <td>0.010249</td>\n",
              "      <td>0.011530</td>\n",
              "    </tr>\n",
              "  </tbody>\n",
              "</table>\n",
              "<p>5 rows × 489 columns</p>\n",
              "</div>\n",
              "      <button class=\"colab-df-convert\" onclick=\"convertToInteractive('df-e0ffcbdc-344c-4795-bdb5-ec57ce435892')\"\n",
              "              title=\"Convert this dataframe to an interactive table.\"\n",
              "              style=\"display:none;\">\n",
              "        \n",
              "  <svg xmlns=\"http://www.w3.org/2000/svg\" height=\"24px\"viewBox=\"0 0 24 24\"\n",
              "       width=\"24px\">\n",
              "    <path d=\"M0 0h24v24H0V0z\" fill=\"none\"/>\n",
              "    <path d=\"M18.56 5.44l.94 2.06.94-2.06 2.06-.94-2.06-.94-.94-2.06-.94 2.06-2.06.94zm-11 1L8.5 8.5l.94-2.06 2.06-.94-2.06-.94L8.5 2.5l-.94 2.06-2.06.94zm10 10l.94 2.06.94-2.06 2.06-.94-2.06-.94-.94-2.06-.94 2.06-2.06.94z\"/><path d=\"M17.41 7.96l-1.37-1.37c-.4-.4-.92-.59-1.43-.59-.52 0-1.04.2-1.43.59L10.3 9.45l-7.72 7.72c-.78.78-.78 2.05 0 2.83L4 21.41c.39.39.9.59 1.41.59.51 0 1.02-.2 1.41-.59l7.78-7.78 2.81-2.81c.8-.78.8-2.07 0-2.86zM5.41 20L4 18.59l7.72-7.72 1.47 1.35L5.41 20z\"/>\n",
              "  </svg>\n",
              "      </button>\n",
              "      \n",
              "  <style>\n",
              "    .colab-df-container {\n",
              "      display:flex;\n",
              "      flex-wrap:wrap;\n",
              "      gap: 12px;\n",
              "    }\n",
              "\n",
              "    .colab-df-convert {\n",
              "      background-color: #E8F0FE;\n",
              "      border: none;\n",
              "      border-radius: 50%;\n",
              "      cursor: pointer;\n",
              "      display: none;\n",
              "      fill: #1967D2;\n",
              "      height: 32px;\n",
              "      padding: 0 0 0 0;\n",
              "      width: 32px;\n",
              "    }\n",
              "\n",
              "    .colab-df-convert:hover {\n",
              "      background-color: #E2EBFA;\n",
              "      box-shadow: 0px 1px 2px rgba(60, 64, 67, 0.3), 0px 1px 3px 1px rgba(60, 64, 67, 0.15);\n",
              "      fill: #174EA6;\n",
              "    }\n",
              "\n",
              "    [theme=dark] .colab-df-convert {\n",
              "      background-color: #3B4455;\n",
              "      fill: #D2E3FC;\n",
              "    }\n",
              "\n",
              "    [theme=dark] .colab-df-convert:hover {\n",
              "      background-color: #434B5C;\n",
              "      box-shadow: 0px 1px 3px 1px rgba(0, 0, 0, 0.15);\n",
              "      filter: drop-shadow(0px 1px 2px rgba(0, 0, 0, 0.3));\n",
              "      fill: #FFFFFF;\n",
              "    }\n",
              "  </style>\n",
              "\n",
              "      <script>\n",
              "        const buttonEl =\n",
              "          document.querySelector('#df-e0ffcbdc-344c-4795-bdb5-ec57ce435892 button.colab-df-convert');\n",
              "        buttonEl.style.display =\n",
              "          google.colab.kernel.accessAllowed ? 'block' : 'none';\n",
              "\n",
              "        async function convertToInteractive(key) {\n",
              "          const element = document.querySelector('#df-e0ffcbdc-344c-4795-bdb5-ec57ce435892');\n",
              "          const dataTable =\n",
              "            await google.colab.kernel.invokeFunction('convertToInteractive',\n",
              "                                                     [key], {});\n",
              "          if (!dataTable) return;\n",
              "\n",
              "          const docLinkHtml = 'Like what you see? Visit the ' +\n",
              "            '<a target=\"_blank\" href=https://colab.research.google.com/notebooks/data_table.ipynb>data table notebook</a>'\n",
              "            + ' to learn more about interactive tables.';\n",
              "          element.innerHTML = '';\n",
              "          dataTable['output_type'] = 'display_data';\n",
              "          await google.colab.output.renderOutput(dataTable, element);\n",
              "          const docLink = document.createElement('div');\n",
              "          docLink.innerHTML = docLinkHtml;\n",
              "          element.appendChild(docLink);\n",
              "        }\n",
              "      </script>\n",
              "    </div>\n",
              "  </div>\n",
              "  "
            ]
          },
          "metadata": {},
          "execution_count": 3
        }
      ],
      "source": [
        "# code for question 3\n",
        "returns.head()"
      ]
    },
    {
      "cell_type": "markdown",
      "metadata": {
        "id": "-e82wrNwo3Lm"
      },
      "source": [
        "### 4. View the `tail` of the `returns` `DataFrame`"
      ]
    },
    {
      "cell_type": "code",
      "execution_count": 4,
      "metadata": {
        "id": "9bxfMnXLo3Lo",
        "colab": {
          "base_uri": "https://localhost:8080/",
          "height": 386
        },
        "outputId": "917677cb-0894-4870-ae36-f3a28ff696c8"
      },
      "outputs": [
        {
          "output_type": "execute_result",
          "data": {
            "text/plain": [
              "           Date      ATVI      CHTR     CMCSA       CTL       DIS     DISCA  \\\n",
              "247  2019-12-24 -0.001359  0.000291  0.009703 -0.002277  0.004207  0.003943   \n",
              "248  2019-12-26  0.001359  0.010077  0.009833 -0.003807  0.002818  0.007540   \n",
              "249  2019-12-27  0.005081 -0.004209  0.002887  0.023371  0.000343 -0.004517   \n",
              "250  2019-12-30 -0.005251 -0.001262  0.001772 -0.024134 -0.013678 -0.011231   \n",
              "251  2019-12-31  0.009129  0.004132 -0.004659  0.008362  0.005964 -0.000611   \n",
              "\n",
              "        DISCK      DISH        EA  ...       NEE        NI       NRG  \\\n",
              "247  0.007496  0.001956  0.007026  ...  0.007219 -0.000729 -0.004752   \n",
              "248  0.004212  0.008617 -0.000369  ...  0.006011 -0.002921 -0.016684   \n",
              "249 -0.005511 -0.004994 -0.000738  ...  0.002271 -0.002196  0.000000   \n",
              "250 -0.008161 -0.015700 -0.013930  ... -0.005043  0.008393  0.000000   \n",
              "251 -0.000656  0.002258  0.005409  ...  0.003599  0.011561  0.013168   \n",
              "\n",
              "          PEG       PNW       PPL        SO       SRE       WEC       XEL  \n",
              "247 -0.001537 -0.001350 -0.001122 -0.002057  0.000598  0.001529  0.003905  \n",
              "248  0.002049  0.001012 -0.002530  0.000633  0.006418  0.001418 -0.001114  \n",
              "249 -0.000853 -0.001125 -0.000281  0.004580  0.001446  0.006085  0.005242  \n",
              "250  0.001535  0.004492  0.004214 -0.001893  0.001192 -0.001518  0.002690  \n",
              "251  0.006456  0.007590  0.005870  0.005667  0.002843  0.000651  0.003155  \n",
              "\n",
              "[5 rows x 489 columns]"
            ],
            "text/html": [
              "\n",
              "  <div id=\"df-3437d10b-74b3-46cb-9f12-4299195c63b1\">\n",
              "    <div class=\"colab-df-container\">\n",
              "      <div>\n",
              "<style scoped>\n",
              "    .dataframe tbody tr th:only-of-type {\n",
              "        vertical-align: middle;\n",
              "    }\n",
              "\n",
              "    .dataframe tbody tr th {\n",
              "        vertical-align: top;\n",
              "    }\n",
              "\n",
              "    .dataframe thead th {\n",
              "        text-align: right;\n",
              "    }\n",
              "</style>\n",
              "<table border=\"1\" class=\"dataframe\">\n",
              "  <thead>\n",
              "    <tr style=\"text-align: right;\">\n",
              "      <th></th>\n",
              "      <th>Date</th>\n",
              "      <th>ATVI</th>\n",
              "      <th>CHTR</th>\n",
              "      <th>CMCSA</th>\n",
              "      <th>CTL</th>\n",
              "      <th>DIS</th>\n",
              "      <th>DISCA</th>\n",
              "      <th>DISCK</th>\n",
              "      <th>DISH</th>\n",
              "      <th>EA</th>\n",
              "      <th>...</th>\n",
              "      <th>NEE</th>\n",
              "      <th>NI</th>\n",
              "      <th>NRG</th>\n",
              "      <th>PEG</th>\n",
              "      <th>PNW</th>\n",
              "      <th>PPL</th>\n",
              "      <th>SO</th>\n",
              "      <th>SRE</th>\n",
              "      <th>WEC</th>\n",
              "      <th>XEL</th>\n",
              "    </tr>\n",
              "  </thead>\n",
              "  <tbody>\n",
              "    <tr>\n",
              "      <th>247</th>\n",
              "      <td>2019-12-24</td>\n",
              "      <td>-0.001359</td>\n",
              "      <td>0.000291</td>\n",
              "      <td>0.009703</td>\n",
              "      <td>-0.002277</td>\n",
              "      <td>0.004207</td>\n",
              "      <td>0.003943</td>\n",
              "      <td>0.007496</td>\n",
              "      <td>0.001956</td>\n",
              "      <td>0.007026</td>\n",
              "      <td>...</td>\n",
              "      <td>0.007219</td>\n",
              "      <td>-0.000729</td>\n",
              "      <td>-0.004752</td>\n",
              "      <td>-0.001537</td>\n",
              "      <td>-0.001350</td>\n",
              "      <td>-0.001122</td>\n",
              "      <td>-0.002057</td>\n",
              "      <td>0.000598</td>\n",
              "      <td>0.001529</td>\n",
              "      <td>0.003905</td>\n",
              "    </tr>\n",
              "    <tr>\n",
              "      <th>248</th>\n",
              "      <td>2019-12-26</td>\n",
              "      <td>0.001359</td>\n",
              "      <td>0.010077</td>\n",
              "      <td>0.009833</td>\n",
              "      <td>-0.003807</td>\n",
              "      <td>0.002818</td>\n",
              "      <td>0.007540</td>\n",
              "      <td>0.004212</td>\n",
              "      <td>0.008617</td>\n",
              "      <td>-0.000369</td>\n",
              "      <td>...</td>\n",
              "      <td>0.006011</td>\n",
              "      <td>-0.002921</td>\n",
              "      <td>-0.016684</td>\n",
              "      <td>0.002049</td>\n",
              "      <td>0.001012</td>\n",
              "      <td>-0.002530</td>\n",
              "      <td>0.000633</td>\n",
              "      <td>0.006418</td>\n",
              "      <td>0.001418</td>\n",
              "      <td>-0.001114</td>\n",
              "    </tr>\n",
              "    <tr>\n",
              "      <th>249</th>\n",
              "      <td>2019-12-27</td>\n",
              "      <td>0.005081</td>\n",
              "      <td>-0.004209</td>\n",
              "      <td>0.002887</td>\n",
              "      <td>0.023371</td>\n",
              "      <td>0.000343</td>\n",
              "      <td>-0.004517</td>\n",
              "      <td>-0.005511</td>\n",
              "      <td>-0.004994</td>\n",
              "      <td>-0.000738</td>\n",
              "      <td>...</td>\n",
              "      <td>0.002271</td>\n",
              "      <td>-0.002196</td>\n",
              "      <td>0.000000</td>\n",
              "      <td>-0.000853</td>\n",
              "      <td>-0.001125</td>\n",
              "      <td>-0.000281</td>\n",
              "      <td>0.004580</td>\n",
              "      <td>0.001446</td>\n",
              "      <td>0.006085</td>\n",
              "      <td>0.005242</td>\n",
              "    </tr>\n",
              "    <tr>\n",
              "      <th>250</th>\n",
              "      <td>2019-12-30</td>\n",
              "      <td>-0.005251</td>\n",
              "      <td>-0.001262</td>\n",
              "      <td>0.001772</td>\n",
              "      <td>-0.024134</td>\n",
              "      <td>-0.013678</td>\n",
              "      <td>-0.011231</td>\n",
              "      <td>-0.008161</td>\n",
              "      <td>-0.015700</td>\n",
              "      <td>-0.013930</td>\n",
              "      <td>...</td>\n",
              "      <td>-0.005043</td>\n",
              "      <td>0.008393</td>\n",
              "      <td>0.000000</td>\n",
              "      <td>0.001535</td>\n",
              "      <td>0.004492</td>\n",
              "      <td>0.004214</td>\n",
              "      <td>-0.001893</td>\n",
              "      <td>0.001192</td>\n",
              "      <td>-0.001518</td>\n",
              "      <td>0.002690</td>\n",
              "    </tr>\n",
              "    <tr>\n",
              "      <th>251</th>\n",
              "      <td>2019-12-31</td>\n",
              "      <td>0.009129</td>\n",
              "      <td>0.004132</td>\n",
              "      <td>-0.004659</td>\n",
              "      <td>0.008362</td>\n",
              "      <td>0.005964</td>\n",
              "      <td>-0.000611</td>\n",
              "      <td>-0.000656</td>\n",
              "      <td>0.002258</td>\n",
              "      <td>0.005409</td>\n",
              "      <td>...</td>\n",
              "      <td>0.003599</td>\n",
              "      <td>0.011561</td>\n",
              "      <td>0.013168</td>\n",
              "      <td>0.006456</td>\n",
              "      <td>0.007590</td>\n",
              "      <td>0.005870</td>\n",
              "      <td>0.005667</td>\n",
              "      <td>0.002843</td>\n",
              "      <td>0.000651</td>\n",
              "      <td>0.003155</td>\n",
              "    </tr>\n",
              "  </tbody>\n",
              "</table>\n",
              "<p>5 rows × 489 columns</p>\n",
              "</div>\n",
              "      <button class=\"colab-df-convert\" onclick=\"convertToInteractive('df-3437d10b-74b3-46cb-9f12-4299195c63b1')\"\n",
              "              title=\"Convert this dataframe to an interactive table.\"\n",
              "              style=\"display:none;\">\n",
              "        \n",
              "  <svg xmlns=\"http://www.w3.org/2000/svg\" height=\"24px\"viewBox=\"0 0 24 24\"\n",
              "       width=\"24px\">\n",
              "    <path d=\"M0 0h24v24H0V0z\" fill=\"none\"/>\n",
              "    <path d=\"M18.56 5.44l.94 2.06.94-2.06 2.06-.94-2.06-.94-.94-2.06-.94 2.06-2.06.94zm-11 1L8.5 8.5l.94-2.06 2.06-.94-2.06-.94L8.5 2.5l-.94 2.06-2.06.94zm10 10l.94 2.06.94-2.06 2.06-.94-2.06-.94-.94-2.06-.94 2.06-2.06.94z\"/><path d=\"M17.41 7.96l-1.37-1.37c-.4-.4-.92-.59-1.43-.59-.52 0-1.04.2-1.43.59L10.3 9.45l-7.72 7.72c-.78.78-.78 2.05 0 2.83L4 21.41c.39.39.9.59 1.41.59.51 0 1.02-.2 1.41-.59l7.78-7.78 2.81-2.81c.8-.78.8-2.07 0-2.86zM5.41 20L4 18.59l7.72-7.72 1.47 1.35L5.41 20z\"/>\n",
              "  </svg>\n",
              "      </button>\n",
              "      \n",
              "  <style>\n",
              "    .colab-df-container {\n",
              "      display:flex;\n",
              "      flex-wrap:wrap;\n",
              "      gap: 12px;\n",
              "    }\n",
              "\n",
              "    .colab-df-convert {\n",
              "      background-color: #E8F0FE;\n",
              "      border: none;\n",
              "      border-radius: 50%;\n",
              "      cursor: pointer;\n",
              "      display: none;\n",
              "      fill: #1967D2;\n",
              "      height: 32px;\n",
              "      padding: 0 0 0 0;\n",
              "      width: 32px;\n",
              "    }\n",
              "\n",
              "    .colab-df-convert:hover {\n",
              "      background-color: #E2EBFA;\n",
              "      box-shadow: 0px 1px 2px rgba(60, 64, 67, 0.3), 0px 1px 3px 1px rgba(60, 64, 67, 0.15);\n",
              "      fill: #174EA6;\n",
              "    }\n",
              "\n",
              "    [theme=dark] .colab-df-convert {\n",
              "      background-color: #3B4455;\n",
              "      fill: #D2E3FC;\n",
              "    }\n",
              "\n",
              "    [theme=dark] .colab-df-convert:hover {\n",
              "      background-color: #434B5C;\n",
              "      box-shadow: 0px 1px 3px 1px rgba(0, 0, 0, 0.15);\n",
              "      filter: drop-shadow(0px 1px 2px rgba(0, 0, 0, 0.3));\n",
              "      fill: #FFFFFF;\n",
              "    }\n",
              "  </style>\n",
              "\n",
              "      <script>\n",
              "        const buttonEl =\n",
              "          document.querySelector('#df-3437d10b-74b3-46cb-9f12-4299195c63b1 button.colab-df-convert');\n",
              "        buttonEl.style.display =\n",
              "          google.colab.kernel.accessAllowed ? 'block' : 'none';\n",
              "\n",
              "        async function convertToInteractive(key) {\n",
              "          const element = document.querySelector('#df-3437d10b-74b3-46cb-9f12-4299195c63b1');\n",
              "          const dataTable =\n",
              "            await google.colab.kernel.invokeFunction('convertToInteractive',\n",
              "                                                     [key], {});\n",
              "          if (!dataTable) return;\n",
              "\n",
              "          const docLinkHtml = 'Like what you see? Visit the ' +\n",
              "            '<a target=\"_blank\" href=https://colab.research.google.com/notebooks/data_table.ipynb>data table notebook</a>'\n",
              "            + ' to learn more about interactive tables.';\n",
              "          element.innerHTML = '';\n",
              "          dataTable['output_type'] = 'display_data';\n",
              "          await google.colab.output.renderOutput(dataTable, element);\n",
              "          const docLink = document.createElement('div');\n",
              "          docLink.innerHTML = docLinkHtml;\n",
              "          element.appendChild(docLink);\n",
              "        }\n",
              "      </script>\n",
              "    </div>\n",
              "  </div>\n",
              "  "
            ]
          },
          "metadata": {},
          "execution_count": 4
        }
      ],
      "source": [
        "# code for question 4\n",
        "returns.tail()"
      ]
    },
    {
      "cell_type": "markdown",
      "metadata": {
        "id": "eYvTlY30o3Lq"
      },
      "source": [
        "### 5. How many stocks are in this `DataFrame`?"
      ]
    },
    {
      "cell_type": "code",
      "execution_count": 5,
      "metadata": {
        "id": "EMdow3Zno3Lu",
        "colab": {
          "base_uri": "https://localhost:8080/"
        },
        "outputId": "6dc330fa-c822-46e5-a36f-7d52c997469c"
      },
      "outputs": [
        {
          "output_type": "stream",
          "name": "stdout",
          "text": [
            "488\n"
          ]
        }
      ],
      "source": [
        "# code for question 5\n",
        "print(len(returns.columns) - 1 )"
      ]
    },
    {
      "cell_type": "markdown",
      "metadata": {
        "id": "9I6VxC1Po3Lw"
      },
      "source": [
        "**ANSWER FOR QUESTION 5**: 488"
      ]
    },
    {
      "cell_type": "markdown",
      "metadata": {
        "id": "UnNCCXBXo3Lz"
      },
      "source": [
        "### 6. Over how many days are these stock returns reported?"
      ]
    },
    {
      "cell_type": "code",
      "execution_count": 6,
      "metadata": {
        "id": "_CeL4dWTo3L0",
        "colab": {
          "base_uri": "https://localhost:8080/"
        },
        "outputId": "34cb23b7-3653-4d50-f181-25bf7ef920e2"
      },
      "outputs": [
        {
          "output_type": "stream",
          "name": "stdout",
          "text": [
            "252\n"
          ]
        }
      ],
      "source": [
        "# code for question 6\n",
        "print(len(returns.index))"
      ]
    },
    {
      "cell_type": "markdown",
      "metadata": {
        "id": "ffbJfjE-o3L1"
      },
      "source": [
        "**ANSWER FOR QUESTION 6**: 252\n"
      ]
    },
    {
      "cell_type": "markdown",
      "metadata": {
        "id": "lr5O5Kawo3L1"
      },
      "source": [
        "### 7. Extract the returns of the Amazon stock only, which has a ticker symbol `AMZN`. Save it in a `Series` called `amzn_returns`."
      ]
    },
    {
      "cell_type": "code",
      "execution_count": 7,
      "metadata": {
        "id": "lREq9Jjco3L2"
      },
      "outputs": [],
      "source": [
        "# code for question 7\n",
        "amzn_returns = pd.Series(returns['AMZN'])\n"
      ]
    },
    {
      "cell_type": "markdown",
      "metadata": {
        "id": "BOS9Qxl1o3L3"
      },
      "source": [
        "### 8. Plot the Amazon stock returns extracted in the above cell. "
      ]
    },
    {
      "cell_type": "code",
      "execution_count": 8,
      "metadata": {
        "id": "KFfxJ4pgo3L4",
        "colab": {
          "base_uri": "https://localhost:8080/",
          "height": 297
        },
        "outputId": "94d1998e-c5d1-47ab-bea6-1cfaed8591fd"
      },
      "outputs": [
        {
          "output_type": "execute_result",
          "data": {
            "text/plain": [
              "Text(0, 0.5, 'Returns')"
            ]
          },
          "metadata": {},
          "execution_count": 8
        },
        {
          "output_type": "display_data",
          "data": {
            "text/plain": [
              "<Figure size 432x288 with 1 Axes>"
            ],
            "image/png": "[encoded data removed]"
          },
          "metadata": {
            "needs_background": "light"
          }
        }
      ],
      "source": [
        "# code for question 8\n",
        "p = plt.plot(amzn_returns.index, amzn_returns.values)\n",
        "plt.xlabel('Days')\n",
        "plt.ylabel('Returns')\n",
        "\n"
      ]
    },
    {
      "cell_type": "markdown",
      "metadata": {
        "id": "93EqI5Vho3L4"
      },
      "source": [
        "### 9. Plot the cumulative sum of the Amazon stock returns using the method `.cumsum()` which acts directly on the `amzn_returns` `Series`."
      ]
    },
    {
      "cell_type": "code",
      "execution_count": 9,
      "metadata": {
        "id": "hSElpeYvo3L5",
        "colab": {
          "base_uri": "https://localhost:8080/",
          "height": 265
        },
        "outputId": "469aa869-4e90-468c-a440-87fe9c720162"
      },
      "outputs": [
        {
          "output_type": "display_data",
          "data": {
            "text/plain": [
              "<Figure size 432x288 with 1 Axes>"
            ],
            "image/png": "[encoded data removed]"
          },
          "metadata": {
            "needs_background": "light"
          }
        }
      ],
      "source": [
        "# code for question 9\n",
        "cumsum = plt.plot(amzn_returns.cumsum())"
      ]
    },
    {
      "cell_type": "code",
      "execution_count": 10,
      "metadata": {
        "id": "e4RiuVn6o3L6"
      },
      "outputs": [],
      "source": [
        "# the module below will allow us to perform linear regression\n",
        "import statsmodels.api as sm"
      ]
    },
    {
      "cell_type": "markdown",
      "metadata": {
        "id": "FbZBRVSio3L6"
      },
      "source": [
        "The function `lin_reg(x,y)` given below performs ordinary least squares (OLS) linear regression using `sm.OLS` from the `statsmodels.api` module.\n",
        "\n",
        "The code enclosed in `''' '''` is the docstring of the function `lin_reg`.\n",
        "\n",
        "`x` in the `lin_reg` function is a matrix that contains the regressors, and `y` represents the vector containing the dependent variable. Note that `x` might contain one vector or multiple vectors. In the case that `x` contains one vector $x$, the regression gives:\n",
        "\n",
        "$$ y = \\beta_0 + \\beta_1 x $$\n",
        "\n",
        "In the case that `x` contains multiple vectors $x_1, \\dots, x_k$, the regression becomes:\n",
        "\n",
        "$$ y = \\beta_0 + \\beta_1 x_1 + \\dots + \\beta_k x_k$$\n",
        "\n",
        "The $\\beta$'s are the regression coefficients obtained using least squares. Note that `sm.add_constant` is used in the function below to make `x` look like the matrix $A$ we use in least squares, whose first column contains all ones."
      ]
    },
    {
      "cell_type": "code",
      "execution_count": 11,
      "metadata": {
        "id": "UWEhWIAuo3L7"
      },
      "outputs": [],
      "source": [
        "def lin_reg(x, y):\n",
        "    '''\n",
        "    ordinary linear regression using least-squares\n",
        "    \n",
        "    Parameters\n",
        "    ----------  \n",
        "    x: regressors (numpy array)\n",
        "    y: dependent variable (numpy array)\n",
        "    \n",
        "    Returns\n",
        "    -------\n",
        "    coefficients: regression coefficients (pandas Series)\n",
        "    residuals: regression residuals (numpy array)\n",
        "    r_squared: correlation coefficient (float)\n",
        "    \n",
        "    '''\n",
        "    x = sm.add_constant(x)\n",
        "    model = sm.OLS(y, x).fit()\n",
        "    coefficients = model.params\n",
        "    residuals = model.resid\n",
        "    r_squared = model.rsquared\n",
        "    return coefficients, residuals, r_squared"
      ]
    },
    {
      "cell_type": "markdown",
      "metadata": {
        "id": "sM0SffWJo3L8"
      },
      "source": [
        "### 10. Let's try to use the above function. Extract (as numpy array) the stock returns of:\n",
        "\n",
        "- Apple (ticker symbol `AAPL`) and call it `aapl`\n",
        "- Intel (ticker symbol `INTC`) and call it `intc`\n",
        "- Microsoft (ticker symbol `MSFT`) and call it `msft`\n",
        "- IBM (ticker symbol `IBM`) and call it `ibm`\n",
        "\n",
        "### Let `y` be the Apple stock returns, and `x` be the Intel stock returns. Use the `lin_reg` function defined above to find $y=\\beta_0 + \\beta_1 x$. "
      ]
    },
    {
      "cell_type": "code",
      "execution_count": 12,
      "metadata": {
        "id": "eYgcH6Kvo3L9"
      },
      "outputs": [],
      "source": [
        "# code for question 10\n",
        "aapl = returns['AAPL'].to_numpy()\n",
        "msft = returns['MSFT'].to_numpy()\n",
        "intc = returns['INTC'].to_numpy()\n",
        "ibm = returns['IBM'].to_numpy()\n"
      ]
    },
    {
      "cell_type": "markdown",
      "source": [
        "The equation is: y = 0.00195633 + 0.53526326 * intc"
      ],
      "metadata": {
        "id": "Z72QK9DOrCo-"
      }
    },
    {
      "cell_type": "markdown",
      "metadata": {
        "id": "kjSgDiWRo3L-"
      },
      "source": [
        "### 11. Plot the cumulative sum of the Apple returns prediction from least squares on top of the cumulative sum of the actual Apple returns. How well do the Intel stock returns describe the Apple stock returns? Answer this question using a quantitative measure of choice to describe how well the regression describes the actual data (you should research what is standard procedure in answering these types of questions)."
      ]
    },
    {
      "cell_type": "code",
      "execution_count": 13,
      "metadata": {
        "id": "oFHxC6oWo3L_",
        "colab": {
          "base_uri": "https://localhost:8080/",
          "height": 283
        },
        "outputId": "ced3535f-d9bc-4cc2-e9a1-b4f5b43a5b92"
      },
      "outputs": [
        {
          "output_type": "execute_result",
          "data": {
            "text/plain": [
              "<matplotlib.legend.Legend at 0x7f389c08eac0>"
            ]
          },
          "metadata": {},
          "execution_count": 13
        },
        {
          "output_type": "display_data",
          "data": {
            "text/plain": [
              "<Figure size 432x288 with 1 Axes>"
            ],
            "image/png": "[encoded data removed]"
          },
          "metadata": {
            "needs_background": "light"
          }
        }
      ],
      "source": [
        "# code for question 11\n",
        "coefOne = lin_reg(intc, aapl)[0][0]\n",
        "coefTwo = lin_reg(intc, aapl)[0][1]\n",
        "prediction = coefTwo * intc + coefOne\n",
        "#r square answer\n",
        "predictionX = returns['Date']\n",
        "actualX = returns['Date']\n",
        "\n",
        "predictionY = prediction.cumsum()\n",
        "actualY = aapl.cumsum()\n",
        "\n",
        "plt.plot(predictionX,predictionY, label=\"Predicted\")\n",
        "plt.plot(actualX,actualY, label=\"Actual\")\n",
        "plt.legend()\n"
      ]
    },
    {
      "cell_type": "markdown",
      "metadata": {
        "id": "AohUeUtTo3L_"
      },
      "source": [
        "**ANSWER FOR QUESTION 11**: Based on the R^2 value we recieved from the regression model which is about 30.5%, the intel stock's description of the Apple stock returns is not the that high, meaning the predicted is not very accurate to the actual returns. \n",
        "\n"
      ]
    },
    {
      "cell_type": "markdown",
      "metadata": {
        "id": "VN_du4K5o3MB"
      },
      "source": [
        "### 12. Now, let `y` be the Apple stock returns, and `x` be the Intel, Microsoft, and IBM stock returns. Use the `lin_reg` function defined above to find $y=\\beta_0 + \\beta_1 x_1 + \\beta_2 x_2 + \\beta_3 x_3$, where $x_1$ represents Intel returns, $x_2$ represents Microsoft returns, and $x_3$ represents IBM returns. "
      ]
    },
    {
      "cell_type": "code",
      "execution_count": 14,
      "metadata": {
        "id": "DUyZH_-po3MC",
        "colab": {
          "base_uri": "https://localhost:8080/"
        },
        "outputId": "9c9f593d-39b7-499c-d175-d0d9da2fc140"
      },
      "outputs": [
        {
          "output_type": "stream",
          "name": "stdout",
          "text": [
            "Coeffecients are [0.00111582 0.28414114 0.54372266 0.15058611]\n"
          ]
        }
      ],
      "source": [
        "# code for question 12\n",
        "x = returns[['INTC', 'MSFT','IBM']].to_numpy()\n",
        "lin_reg(x, aapl)\n",
        "print(\"Coeffecients are\", lin_reg(x, aapl)[0])"
      ]
    },
    {
      "cell_type": "markdown",
      "source": [
        "The Equation is: y = 0.00111582 + intc * 0.28414114 + msft * 0.54372266 + ibm * 0.15058611\n",
        "\n",
        "\n"
      ],
      "metadata": {
        "id": "Rh9px3_yttpn"
      }
    },
    {
      "cell_type": "markdown",
      "metadata": {
        "id": "nS3SgLEQo3MD"
      },
      "source": [
        "### 13. Plot the cumulative sum of the Apple returns prediction from least squares on top of the cumulative sum of actual Apple returns. How well do the Intel, Microsoft, and IBM stock returns describe the Apple stock returns? Answer this question using a quantitative measure of choice to describe how well the regression describes the actual data (you should research what is standard procedure in answering these types of questions)."
      ]
    },
    {
      "cell_type": "code",
      "execution_count": 15,
      "metadata": {
        "id": "UUCDe_TQo3MD",
        "colab": {
          "base_uri": "https://localhost:8080/",
          "height": 283
        },
        "outputId": "f33ae4e5-dc6b-413e-beb5-9d313ed1ebdd"
      },
      "outputs": [
        {
          "output_type": "execute_result",
          "data": {
            "text/plain": [
              "<matplotlib.legend.Legend at 0x7f389bdc0c10>"
            ]
          },
          "metadata": {},
          "execution_count": 15
        },
        {
          "output_type": "display_data",
          "data": {
            "text/plain": [
              "<Figure size 432x288 with 1 Axes>"
            ],
            "image/png": "[encoded data removed]"
          },
          "metadata": {
            "needs_background": "light"
          }
        }
      ],
      "source": [
        "# code for question 13\n",
        "reg = lin_reg(x, aapl)\n",
        "prediction2 = reg[0][0] + reg[0][1] * intc + + reg[0][2] * msft + reg[0][3] *  ibm\n",
        "\n",
        "actualY = aapl.cumsum()\n",
        "plt.plot(returns['Date'], prediction2.cumsum(), label=\"Predicted\")\n",
        "plt.plot(returns['Date'], actualY, label=\"Actual\")\n",
        "plt.legend()"
      ]
    },
    {
      "cell_type": "markdown",
      "metadata": {
        "id": "SCQlVPNmo3ME"
      },
      "source": [
        "**ANSWER FOR QUESTION 13**: Based on the r^2 value, the prediciton describes the apple stock returns at a rate 47% by intel, Microsoft, and IBM, Which is still low as a prediction compared to the actual returns.\n",
        "\n"
      ]
    },
    {
      "cell_type": "markdown",
      "metadata": {
        "id": "HbmcUm2zo3ME"
      },
      "source": [
        "The file `SPY.csv` contains the prices of SPDR S&P 500 ETF Trust. This Exchange Traded Fund (ETF) contains a collection of assets currently present in the S&P 500 index. \n",
        "\n",
        "### 14. Load `SPY.csv` into a DataFrame called `spy_prices` using the `read_csv` method in `pandas`. Make sure to make the 'Date' column to be your index column. To do that, read the docstring for `read_csv`. "
      ]
    },
    {
      "cell_type": "code",
      "execution_count": 16,
      "metadata": {
        "id": "FSULofdLo3MF"
      },
      "outputs": [],
      "source": [
        "# code for question 14\n",
        "#spy_prices = pd.read_csv('/content/SPY.csv', index_col='Date')\n",
        "spy_prices = pd.read_csv('SPY.csv', index_col='Date')\n"
      ]
    },
    {
      "cell_type": "markdown",
      "metadata": {
        "id": "Q3SZG271o3MG"
      },
      "source": [
        "### 15. Once you have downloaded the file into the `DataFrame`, observe all the available prices and dates. Show the head and tail of the `DataFrame`, and then answer the following questions:\n",
        "\n",
        "(a) Which types of prices are reported?\n",
        "\n",
        "(b) From which date to which date are these prices reported (in the entire DataFrame)?"
      ]
    },
    {
      "cell_type": "code",
      "execution_count": 17,
      "metadata": {
        "id": "Ls_7gotgo3MG",
        "colab": {
          "base_uri": "https://localhost:8080/",
          "height": 238
        },
        "outputId": "5db338a4-8902-45c3-88e4-59897c1c2cd3"
      },
      "outputs": [
        {
          "output_type": "execute_result",
          "data": {
            "text/plain": [
              "                  High         Low        Open       Close       Volume  \\\n",
              "Date                                                                      \n",
              "2020-05-26  302.190002  295.459991  301.929993  299.079987   88951400.0   \n",
              "2020-05-27  303.570007  296.869995  302.119995  303.529999  104817400.0   \n",
              "2020-05-28  306.839996  302.239990  304.649994  302.970001   90405200.0   \n",
              "2020-05-29  304.959991  299.470001  302.459991  304.320007  119265700.0   \n",
              "2020-06-01  306.209991  303.059998  303.619995  305.549988   55758300.0   \n",
              "\n",
              "             Adj Close  \n",
              "Date                    \n",
              "2020-05-26  297.769623  \n",
              "2020-05-27  302.200134  \n",
              "2020-05-28  301.642609  \n",
              "2020-05-29  302.986694  \n",
              "2020-06-01  304.211273  "
            ],
            "text/html": [
              "\n",
              "  <div id=\"df-3072db13-2e81-4498-8615-b492b0e81cfb\">\n",
              "    <div class=\"colab-df-container\">\n",
              "      <div>\n",
              "<style scoped>\n",
              "    .dataframe tbody tr th:only-of-type {\n",
              "        vertical-align: middle;\n",
              "    }\n",
              "\n",
              "    .dataframe tbody tr th {\n",
              "        vertical-align: top;\n",
              "    }\n",
              "\n",
              "    .dataframe thead th {\n",
              "        text-align: right;\n",
              "    }\n",
              "</style>\n",
              "<table border=\"1\" class=\"dataframe\">\n",
              "  <thead>\n",
              "    <tr style=\"text-align: right;\">\n",
              "      <th></th>\n",
              "      <th>High</th>\n",
              "      <th>Low</th>\n",
              "      <th>Open</th>\n",
              "      <th>Close</th>\n",
              "      <th>Volume</th>\n",
              "      <th>Adj Close</th>\n",
              "    </tr>\n",
              "    <tr>\n",
              "      <th>Date</th>\n",
              "      <th></th>\n",
              "      <th></th>\n",
              "      <th></th>\n",
              "      <th></th>\n",
              "      <th></th>\n",
              "      <th></th>\n",
              "    </tr>\n",
              "  </thead>\n",
              "  <tbody>\n",
              "    <tr>\n",
              "      <th>2020-05-26</th>\n",
              "      <td>302.190002</td>\n",
              "      <td>295.459991</td>\n",
              "      <td>301.929993</td>\n",
              "      <td>299.079987</td>\n",
              "      <td>88951400.0</td>\n",
              "      <td>297.769623</td>\n",
              "    </tr>\n",
              "    <tr>\n",
              "      <th>2020-05-27</th>\n",
              "      <td>303.570007</td>\n",
              "      <td>296.869995</td>\n",
              "      <td>302.119995</td>\n",
              "      <td>303.529999</td>\n",
              "      <td>104817400.0</td>\n",
              "      <td>302.200134</td>\n",
              "    </tr>\n",
              "    <tr>\n",
              "      <th>2020-05-28</th>\n",
              "      <td>306.839996</td>\n",
              "      <td>302.239990</td>\n",
              "      <td>304.649994</td>\n",
              "      <td>302.970001</td>\n",
              "      <td>90405200.0</td>\n",
              "      <td>301.642609</td>\n",
              "    </tr>\n",
              "    <tr>\n",
              "      <th>2020-05-29</th>\n",
              "      <td>304.959991</td>\n",
              "      <td>299.470001</td>\n",
              "      <td>302.459991</td>\n",
              "      <td>304.320007</td>\n",
              "      <td>119265700.0</td>\n",
              "      <td>302.986694</td>\n",
              "    </tr>\n",
              "    <tr>\n",
              "      <th>2020-06-01</th>\n",
              "      <td>306.209991</td>\n",
              "      <td>303.059998</td>\n",
              "      <td>303.619995</td>\n",
              "      <td>305.549988</td>\n",
              "      <td>55758300.0</td>\n",
              "      <td>304.211273</td>\n",
              "    </tr>\n",
              "  </tbody>\n",
              "</table>\n",
              "</div>\n",
              "      <button class=\"colab-df-convert\" onclick=\"convertToInteractive('df-3072db13-2e81-4498-8615-b492b0e81cfb')\"\n",
              "              title=\"Convert this dataframe to an interactive table.\"\n",
              "              style=\"display:none;\">\n",
              "        \n",
              "  <svg xmlns=\"http://www.w3.org/2000/svg\" height=\"24px\"viewBox=\"0 0 24 24\"\n",
              "       width=\"24px\">\n",
              "    <path d=\"M0 0h24v24H0V0z\" fill=\"none\"/>\n",
              "    <path d=\"M18.56 5.44l.94 2.06.94-2.06 2.06-.94-2.06-.94-.94-2.06-.94 2.06-2.06.94zm-11 1L8.5 8.5l.94-2.06 2.06-.94-2.06-.94L8.5 2.5l-.94 2.06-2.06.94zm10 10l.94 2.06.94-2.06 2.06-.94-2.06-.94-.94-2.06-.94 2.06-2.06.94z\"/><path d=\"M17.41 7.96l-1.37-1.37c-.4-.4-.92-.59-1.43-.59-.52 0-1.04.2-1.43.59L10.3 9.45l-7.72 7.72c-.78.78-.78 2.05 0 2.83L4 21.41c.39.39.9.59 1.41.59.51 0 1.02-.2 1.41-.59l7.78-7.78 2.81-2.81c.8-.78.8-2.07 0-2.86zM5.41 20L4 18.59l7.72-7.72 1.47 1.35L5.41 20z\"/>\n",
              "  </svg>\n",
              "      </button>\n",
              "      \n",
              "  <style>\n",
              "    .colab-df-container {\n",
              "      display:flex;\n",
              "      flex-wrap:wrap;\n",
              "      gap: 12px;\n",
              "    }\n",
              "\n",
              "    .colab-df-convert {\n",
              "      background-color: #E8F0FE;\n",
              "      border: none;\n",
              "      border-radius: 50%;\n",
              "      cursor: pointer;\n",
              "      display: none;\n",
              "      fill: #1967D2;\n",
              "      height: 32px;\n",
              "      padding: 0 0 0 0;\n",
              "      width: 32px;\n",
              "    }\n",
              "\n",
              "    .colab-df-convert:hover {\n",
              "      background-color: #E2EBFA;\n",
              "      box-shadow: 0px 1px 2px rgba(60, 64, 67, 0.3), 0px 1px 3px 1px rgba(60, 64, 67, 0.15);\n",
              "      fill: #174EA6;\n",
              "    }\n",
              "\n",
              "    [theme=dark] .colab-df-convert {\n",
              "      background-color: #3B4455;\n",
              "      fill: #D2E3FC;\n",
              "    }\n",
              "\n",
              "    [theme=dark] .colab-df-convert:hover {\n",
              "      background-color: #434B5C;\n",
              "      box-shadow: 0px 1px 3px 1px rgba(0, 0, 0, 0.15);\n",
              "      filter: drop-shadow(0px 1px 2px rgba(0, 0, 0, 0.3));\n",
              "      fill: #FFFFFF;\n",
              "    }\n",
              "  </style>\n",
              "\n",
              "      <script>\n",
              "        const buttonEl =\n",
              "          document.querySelector('#df-3072db13-2e81-4498-8615-b492b0e81cfb button.colab-df-convert');\n",
              "        buttonEl.style.display =\n",
              "          google.colab.kernel.accessAllowed ? 'block' : 'none';\n",
              "\n",
              "        async function convertToInteractive(key) {\n",
              "          const element = document.querySelector('#df-3072db13-2e81-4498-8615-b492b0e81cfb');\n",
              "          const dataTable =\n",
              "            await google.colab.kernel.invokeFunction('convertToInteractive',\n",
              "                                                     [key], {});\n",
              "          if (!dataTable) return;\n",
              "\n",
              "          const docLinkHtml = 'Like what you see? Visit the ' +\n",
              "            '<a target=\"_blank\" href=https://colab.research.google.com/notebooks/data_table.ipynb>data table notebook</a>'\n",
              "            + ' to learn more about interactive tables.';\n",
              "          element.innerHTML = '';\n",
              "          dataTable['output_type'] = 'display_data';\n",
              "          await google.colab.output.renderOutput(dataTable, element);\n",
              "          const docLink = document.createElement('div');\n",
              "          docLink.innerHTML = docLinkHtml;\n",
              "          element.appendChild(docLink);\n",
              "        }\n",
              "      </script>\n",
              "    </div>\n",
              "  </div>\n",
              "  "
            ]
          },
          "metadata": {},
          "execution_count": 17
        }
      ],
      "source": [
        "# code for question 15\n",
        "spy_prices.head()\n",
        "spy_prices.tail()"
      ]
    },
    {
      "cell_type": "markdown",
      "metadata": {
        "id": "Tqr0o5G2o3MH"
      },
      "source": [
        "**ANSWER FOR QUESTION 15**: (double click here and type your answer)\n",
        "\n",
        "(a) The types of prices we see are High, Low, Open, Close, and Adjusted Close prices. \n",
        "\n",
        "(b) 2015-01-02 until 2020-06-01"
      ]
    },
    {
      "cell_type": "markdown",
      "metadata": {
        "id": "mljWsyHIo3MH"
      },
      "source": [
        "### 16. Retain only the Adjusted Close price in the `spy_prices` `DataFrame`. Call the resulting `Series` `spy_adjclose`."
      ]
    },
    {
      "cell_type": "code",
      "execution_count": 18,
      "metadata": {
        "id": "NUalgy5ko3MI"
      },
      "outputs": [],
      "source": [
        "# code for question 16\n",
        "#dates = spy_prices['Date'].to_numpy()\n",
        "spy_adjclose = pd.Series(spy_prices['Adj Close'])\n",
        "\n"
      ]
    },
    {
      "cell_type": "markdown",
      "metadata": {
        "id": "K4PydhCVo3MJ"
      },
      "source": [
        "### 17. Now, using the `pct_change` method in `pandas`, compute the returns on the Adjusted Close prices of SPY, and only retain the returns from '2019-01-01' to '2020-01-01'. Call the `Series` obtained `spy_returns`."
      ]
    },
    {
      "cell_type": "code",
      "execution_count": 19,
      "metadata": {
        "id": "fnfMg1rxo3MJ"
      },
      "outputs": [],
      "source": [
        "# code for question 17\n",
        "spy_returns = pd.Series(spy_adjclose.loc[\"2019-01-01\":'2020-01-01']).pct_change()\n",
        "\n"
      ]
    },
    {
      "cell_type": "markdown",
      "metadata": {
        "id": "Op1v6eKco3MK"
      },
      "source": [
        "### 18. Perform SVD on `returns` data that contain assets from the S&P 500, and save the left singular vectors in an array called `U`, the singular values in an array called `sing_vals`, and the right singular vectors in an array called `V`. Retain the left singular vector corresponding to the largest singular value and call is `u_sigma1`."
      ]
    },
    {
      "cell_type": "code",
      "execution_count": 20,
      "metadata": {
        "id": "ZhGtqZlJo3ML"
      },
      "outputs": [],
      "source": [
        "# code for question 18\n",
        "svd = npla.svd(returns.drop('Date', axis=1))\n",
        "U = svd[0]\n",
        "u_sigma1 = U[:,0]\n",
        "sing_vals = svd[1]\n",
        "V = svd[2]\n",
        "\n",
        "\n",
        "\n",
        "\n"
      ]
    },
    {
      "cell_type": "markdown",
      "metadata": {
        "id": "z8hsxeX9o3ML"
      },
      "source": [
        "### 19. `u_sigma1` is thought to track the market. To test that, we will perform a regression of `spy_returns` against this first left singular vector by letting `y=spy_returns` and `x=u_sigma1` and computing\n",
        "\n",
        "### $$ y = \\beta_0 + \\beta_1 x$$\n",
        "### using least squares regression."
      ]
    },
    {
      "cell_type": "markdown",
      "source": [
        "ANSWER\n"
      ],
      "metadata": {
        "id": "8Nie_Mu5wN0t"
      }
    },
    {
      "cell_type": "code",
      "execution_count": 21,
      "metadata": {
        "id": "IQthBSxPo3MM",
        "colab": {
          "base_uri": "https://localhost:8080/"
        },
        "outputId": "058f04c6-afd1-4721-8bdc-bdb2911c931a"
      },
      "outputs": [
        {
          "output_type": "execute_result",
          "data": {
            "text/plain": [
              "(const    0.000356\n",
              " x1      -0.119040\n",
              " dtype: float64, Date\n",
              " 2019-01-03   -0.004988\n",
              " 2019-01-04    0.004681\n",
              " 2019-01-07   -0.002600\n",
              " 2019-01-08    0.001296\n",
              " 2019-01-09   -0.003479\n",
              "                 ...   \n",
              " 2019-12-24   -0.000277\n",
              " 2019-12-26    0.003120\n",
              " 2019-12-27    0.001089\n",
              " 2019-12-30   -0.002391\n",
              " 2019-12-31   -0.000883\n",
              " Length: 251, dtype: float64, 0.8991660299509096)"
            ]
          },
          "metadata": {},
          "execution_count": 21
        }
      ],
      "source": [
        "# code for question 19\n",
        "\n",
        "\n",
        "lin_reg(u_sigma1[1:],spy_returns.iloc[1:])\n"
      ]
    },
    {
      "cell_type": "markdown",
      "metadata": {
        "id": "idRHqOqco3MM"
      },
      "source": [
        "### 20. Plot the cumulative sum of the result from the regression on top of the cumulative sum of `spy_returns`. What do you notice? Answer this question using a quantitative measure of choice to describe how well the regression describes the actual data (you should research what is standard procedure in answering these types of questions)."
      ]
    },
    {
      "cell_type": "code",
      "execution_count": 22,
      "metadata": {
        "id": "OZaw-XZqo3MN",
        "colab": {
          "base_uri": "https://localhost:8080/",
          "height": 515
        },
        "outputId": "5013f027-1ae7-45df-cbe1-4ef13d3a2995"
      },
      "outputs": [
        {
          "output_type": "execute_result",
          "data": {
            "text/plain": [
              "<matplotlib.legend.Legend at 0x7f389bb78fd0>"
            ]
          },
          "metadata": {},
          "execution_count": 22
        },
        {
          "output_type": "display_data",
          "data": {
            "text/plain": [
              "<Figure size 576x576 with 1 Axes>"
            ],
            "image/png": "[encoded data removed]"
          },
          "metadata": {
            "needs_background": "light"
          }
        }
      ],
      "source": [
        "# code for question 20\n",
        "regression = lin_reg(u_sigma1[1:],spy_returns.iloc[1:])[1]\n",
        "resultReg = spy_returns - regression\n",
        " \n",
        "x = resultReg.cumsum().index\n",
        "plt.figure(figsize=(8,8));\n",
        "plt.xlabel(\"Days\")\n",
        "plt.plot(x,resultReg.cumsum())\n",
        "plt.plot(x, spy_returns.cumsum())\n",
        "plt.ylabel(\"Returns\")\n",
        "plt.legend([\"Predicted Cumulative Returns\",\"Actual Cumulative Returns\"])"
      ]
    },
    {
      "cell_type": "markdown",
      "metadata": {
        "id": "sDOLMEZ9o3MN"
      },
      "source": [
        "**ANSWER FOR QUESTION 20**: This the highest R^2 value yet, with a value of 89.9%, meaning the predicted returns better fits our actual returns. \n"
      ]
    },
    {
      "cell_type": "markdown",
      "metadata": {
        "id": "9utCD6iFo3MO"
      },
      "source": [
        "# Congratulations! You have just implemented your first PCA regression to describe the returns on the S&P 500. Now let's shift gears a little and see how singular values and singular vectors of returns matrices are connected to eigenvalues and eigenvectors of correlation matrices."
      ]
    },
    {
      "cell_type": "markdown",
      "metadata": {
        "id": "z3XcekZdo3MP"
      },
      "source": [
        "### 21. Compute the standardized returns of the S&P 500 and save you answer in a `DataFrame` called `sp500_standardized_returns`."
      ]
    },
    {
      "cell_type": "code",
      "execution_count": 25,
      "metadata": {
        "id": "7EL9Y8Ppo3MP"
      },
      "outputs": [],
      "source": [
        "# code for question 21\n",
        "import scipy\n",
        "from scipy import stats\n",
        "\n",
        "sp500_standardized_returns = returns.drop(['Date'], axis=1, inplace = False)\n",
        "\n",
        "sp500_standardized_returns[:] =  stats.zscore(sp500_standardized_returns[:])\n",
        "\n",
        "#sp500_standardized_returns = "
      ]
    },
    {
      "cell_type": "markdown",
      "metadata": {
        "id": "xOvFVvCGo3MQ"
      },
      "source": [
        "### 22. Perform SVD on `sp500_standardized_returns` data and save the singular values in an array called `singvals_standardized_returns`."
      ]
    },
    {
      "cell_type": "code",
      "execution_count": 47,
      "metadata": {
        "id": "iMcbU-mxo3MQ",
        "colab": {
          "base_uri": "https://localhost:8080/"
        },
        "outputId": "ef83c1b2-af4a-4071-fca9-b1d186904ab1"
      },
      "outputs": [
        {
          "output_type": "execute_result",
          "data": {
            "text/plain": [
              "array([1.86001557e+02, 1.06919052e+02, 5.98649885e+01, 5.12562213e+01,\n",
              "       4.65490417e+01, 4.38253882e+01, 4.21295971e+01, 3.95359508e+01,\n",
              "       3.87699299e+01, 3.55193801e+01, 3.43690803e+01, 3.36649746e+01,\n",
              "       3.32115707e+01, 3.28051575e+01, 3.12508994e+01, 3.08198477e+01,\n",
              "       3.05592132e+01, 3.01477638e+01, 2.97346314e+01, 2.89399088e+01,\n",
              "       2.85982004e+01, 2.82637384e+01, 2.80699382e+01, 2.79278568e+01,\n",
              "       2.75055507e+01, 2.67591886e+01, 2.66842755e+01, 2.63813368e+01,\n",
              "       2.62003307e+01, 2.58056198e+01, 2.57115621e+01, 2.53415161e+01,\n",
              "       2.50746676e+01, 2.49603400e+01, 2.46974069e+01, 2.44905732e+01,\n",
              "       2.41119272e+01, 2.39184866e+01, 2.37580438e+01, 2.35317665e+01,\n",
              "       2.33556813e+01, 2.32075023e+01, 2.31305287e+01, 2.30934475e+01,\n",
              "       2.27308125e+01, 2.26380344e+01, 2.23226419e+01, 2.21984587e+01,\n",
              "       2.20704957e+01, 2.17464308e+01, 2.16733661e+01, 2.16203947e+01,\n",
              "       2.13494641e+01, 2.11212868e+01, 2.09514203e+01, 2.08095259e+01,\n",
              "       2.07077521e+01, 2.02830105e+01, 2.02521596e+01, 2.01509469e+01,\n",
              "       2.00153349e+01, 1.99590396e+01, 1.98344943e+01, 1.97579110e+01,\n",
              "       1.96408140e+01, 1.94394729e+01, 1.93959052e+01, 1.93341113e+01,\n",
              "       1.91869192e+01, 1.90457920e+01, 1.88745248e+01, 1.86783865e+01,\n",
              "       1.86213989e+01, 1.85352739e+01, 1.84151634e+01, 1.83019234e+01,\n",
              "       1.82032210e+01, 1.79470730e+01, 1.78292167e+01, 1.76719267e+01,\n",
              "       1.75695406e+01, 1.75288980e+01, 1.73880802e+01, 1.73447127e+01,\n",
              "       1.72534712e+01, 1.70143354e+01, 1.69638736e+01, 1.69280263e+01,\n",
              "       1.67676671e+01, 1.66808871e+01, 1.65794684e+01, 1.64909038e+01,\n",
              "       1.64037853e+01, 1.63277844e+01, 1.62902520e+01, 1.61173475e+01,\n",
              "       1.60440836e+01, 1.59272530e+01, 1.57329131e+01, 1.56362910e+01,\n",
              "       1.55575748e+01, 1.53735433e+01, 1.52652806e+01, 1.51889687e+01,\n",
              "       1.51357112e+01, 1.50607401e+01, 1.49518843e+01, 1.47844204e+01,\n",
              "       1.47558349e+01, 1.46991666e+01, 1.46293069e+01, 1.45061271e+01,\n",
              "       1.43957223e+01, 1.42747144e+01, 1.41830631e+01, 1.41524543e+01,\n",
              "       1.39734460e+01, 1.39065037e+01, 1.37989568e+01, 1.37180457e+01,\n",
              "       1.35906294e+01, 1.35155679e+01, 1.34501593e+01, 1.33559937e+01,\n",
              "       1.31870200e+01, 1.31109194e+01, 1.30310182e+01, 1.29801305e+01,\n",
              "       1.28683775e+01, 1.28418178e+01, 1.26921502e+01, 1.26463953e+01,\n",
              "       1.25335905e+01, 1.24139489e+01, 1.23551818e+01, 1.23240338e+01,\n",
              "       1.22005921e+01, 1.20926806e+01, 1.20648538e+01, 1.19460793e+01,\n",
              "       1.18670391e+01, 1.17968413e+01, 1.16849540e+01, 1.16334836e+01,\n",
              "       1.15869231e+01, 1.15638960e+01, 1.14638390e+01, 1.13919646e+01,\n",
              "       1.12021193e+01, 1.11232930e+01, 1.09945649e+01, 1.09568078e+01,\n",
              "       1.08845174e+01, 1.08510364e+01, 1.07074734e+01, 1.06913155e+01,\n",
              "       1.05468493e+01, 1.05086198e+01, 1.04790034e+01, 1.02793501e+01,\n",
              "       1.02493848e+01, 1.02215927e+01, 1.01422958e+01, 1.00842541e+01,\n",
              "       1.00215409e+01, 9.92656999e+00, 9.86194079e+00, 9.73616169e+00,\n",
              "       9.67522507e+00, 9.64569425e+00, 9.60967728e+00, 9.50529384e+00,\n",
              "       9.47928337e+00, 9.40347826e+00, 9.35362405e+00, 9.24147647e+00,\n",
              "       9.18687614e+00, 9.07576711e+00, 9.01153057e+00, 8.96317008e+00,\n",
              "       8.89591499e+00, 8.75823321e+00, 8.71073855e+00, 8.61222343e+00,\n",
              "       8.56310278e+00, 8.49029976e+00, 8.37511227e+00, 8.33659949e+00,\n",
              "       8.27043652e+00, 8.18986650e+00, 8.13400579e+00, 8.10222392e+00,\n",
              "       7.98132815e+00, 7.89635426e+00, 7.86961462e+00, 7.81760961e+00,\n",
              "       7.77937284e+00, 7.70169439e+00, 7.63311426e+00, 7.51784851e+00,\n",
              "       7.37454137e+00, 7.34595859e+00, 7.33140005e+00, 7.17433337e+00,\n",
              "       7.09793874e+00, 7.08471856e+00, 6.97646991e+00, 6.93576382e+00,\n",
              "       6.87368605e+00, 6.82139234e+00, 6.76609759e+00, 6.63654686e+00,\n",
              "       6.62725164e+00, 6.58934377e+00, 6.54102036e+00, 6.50910339e+00,\n",
              "       6.33145540e+00, 6.29432498e+00, 6.23282777e+00, 6.21146734e+00,\n",
              "       6.06018403e+00, 5.92646348e+00, 5.85403714e+00, 5.74772289e+00,\n",
              "       5.73005562e+00, 5.67170526e+00, 5.64092747e+00, 5.48155612e+00,\n",
              "       5.44855808e+00, 5.30954427e+00, 5.28684746e+00, 5.18481717e+00,\n",
              "       5.15572726e+00, 5.13042076e+00, 5.03893214e+00, 4.90334591e+00,\n",
              "       4.78873728e+00, 4.70420030e+00, 4.63447895e+00, 4.58542215e+00,\n",
              "       4.54554152e+00, 4.47880639e+00, 4.26675342e+00, 4.16585999e+00,\n",
              "       4.11761223e+00, 3.99555757e+00, 3.99034983e+00, 3.72402520e+00,\n",
              "       3.61071987e+00, 3.46576513e+00, 3.26733285e+00, 8.25903532e-14])"
            ]
          },
          "metadata": {},
          "execution_count": 47
        }
      ],
      "source": [
        "# code for question 22\n",
        "singvals_standardized_returns = npla.svd(sp500_standardized_returns)[1]\n",
        "singvals_standardized_returns\n"
      ]
    },
    {
      "cell_type": "markdown",
      "metadata": {
        "id": "xtmQtNexo3MS"
      },
      "source": [
        "### 23. Compute the correlation matrix of the S&P 500 returns and save the result as a `DataFrame` called `sp500_corr`. It is easiest to use the built in `pandas` method to compute correlation matrices. "
      ]
    },
    {
      "cell_type": "code",
      "execution_count": 26,
      "metadata": {
        "id": "a113a18Ho3MU"
      },
      "outputs": [],
      "source": [
        "# code for question 23\n",
        "sp500_corr = returns.corr()\n"
      ]
    },
    {
      "cell_type": "markdown",
      "source": [],
      "metadata": {
        "id": "84BSlOD-gxok"
      }
    },
    {
      "cell_type": "markdown",
      "metadata": {
        "id": "2Hwcv--io3MU"
      },
      "source": [
        "### 24. Compute the eigenvalues and eigenvectors of the correlation matrix. Save the results in arrays called `eigvals_corr` and `eigvecs_corr`. How are the eigenvalues of `sp500_corr` related to the singular values of `sp500_standardized_returns`? You should derive this result theoretically."
      ]
    },
    {
      "cell_type": "code",
      "execution_count": null,
      "metadata": {
        "id": "5AkzRW57o3MV"
      },
      "outputs": [],
      "source": [
        "# code for question 24\n",
        "e_v = npla.eig(sp500_corr)\n",
        "eigvals_corr = e_v[0]\n",
        "eigvecs_corr = e_v[1]\n",
        "\n"
      ]
    },
    {
      "cell_type": "markdown",
      "metadata": {
        "id": "tT1-jTDJo3MV"
      },
      "source": [
        "**ANSWER FOR QUESTION 24**: The SVD formula is $$ A = U \\Sigma V^T$$ And the formula for the correlation matrix is $$((A^T * A)/(n-1)) $$ When we multiply the transpose of A by A we get: $$ A^T * A = (U \\Sigma V^T)^T * U \\Sigma V^T$$ Which then equals: $$V \\Sigma^T \\Sigma  V^T$$ Now We can utilize our correlation formula by substituting in our A^T * A: $$(V \\Sigma^T \\Sigma  V^T)/(n-1)$$ Now if we play around with the variables we can put this formula in the shape of the similar matrices formula. We see that: $$ Correlation = V((\\Sigma^T * \\Sigma)/(n-1)) * V^-1 $$ We changes V^T to V^-1 since V is always orthogonal, and here our Correlation matrix has the same eigenvalues as $$(\\Sigma^T * \\Sigma)/(n-1)$$  And that is the relationship between the eigenvalues if the sp500_corr matrix and the singlular values of the sp500_standardized_returns. "
      ]
    },
    {
      "cell_type": "markdown",
      "metadata": {
        "id": "YFoaTwa1o3MW"
      },
      "source": [
        "### 25. What is the sum of the eigenvalues? Justify why the sum turns out to be what it is."
      ]
    },
    {
      "cell_type": "code",
      "execution_count": null,
      "metadata": {
        "id": "6AC6PG2fo3MX",
        "outputId": "bf74fdf8-768c-427b-935f-5d60826dc01b",
        "colab": {
          "base_uri": "https://localhost:8080/"
        }
      },
      "outputs": [
        {
          "output_type": "stream",
          "name": "stdout",
          "text": [
            "(488.00000000000074+1.9721522630525295e-31j)\n"
          ]
        }
      ],
      "source": [
        "# code for question 25\n",
        "print(eigvals_corr.sum())"
      ]
    },
    {
      "cell_type": "markdown",
      "metadata": {
        "id": "NTiJh4_jo3MX"
      },
      "source": [
        "**ANSWER FOR QUESTION 25**: The sum of the eigenvalues is about 488, which is due to the fact that the trace of the matrix being equal to 488 since we have 488 rows that all have a One down the diagonal since the correlation of each matrix to itself is equal to 1. We end up adding every diagonal entry by one to recieve 488.\n"
      ]
    },
    {
      "cell_type": "markdown",
      "metadata": {
        "id": "0p0Fvoeco3MY"
      },
      "source": [
        "### 26. How are the eigenvectors of the correlation matrix `eigvecs_corr` connected to the left singular vectors of the standardized returns matrix in Question 22? Here you are expected to derive the relation theoretically."
      ]
    },
    {
      "cell_type": "markdown",
      "metadata": {
        "id": "-oH6uQIso3MY"
      },
      "source": [
        "**ANSWER FOR QUESTION 26**: We know the formula  $$ A = U \\Sigma V^T $$ And we know the correlation matrix is derived from $$ ((A^T * A)/(n-1))$$ Where n is for the number of rows in a matrix. Which means our result correlation matrix is just a scaled down version of $$ A^T*A$$ The Matrix V is made up of the eigenvectors of our correlation matrix."
      ]
    }
  ],
  "metadata": {
    "colab": {
      "provenance": []
    },
    "kernelspec": {
      "display_name": "Python 3",
      "language": "python",
      "name": "python3"
    },
    "language_info": {
      "codemirror_mode": {
        "name": "ipython",
        "version": 3
      },
      "file_extension": ".py",
      "mimetype": "text/x-python",
      "name": "python",
      "nbconvert_exporter": "python",
      "pygments_lexer": "ipython3",
      "version": "3.8.5"
    }
  },
  "nbformat": 4,
  "nbformat_minor": 0
}